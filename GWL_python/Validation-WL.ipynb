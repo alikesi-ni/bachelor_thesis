{
 "cells": [
  {
   "cell_type": "markdown",
   "metadata": {},
   "source": [
    "## Validation"
   ]
  },
  {
   "cell_type": "markdown",
   "metadata": {},
   "source": [
    "### Validation: WL Implementation"
   ]
  },
  {
   "cell_type": "code",
   "execution_count": 1,
   "metadata": {},
   "outputs": [
    {
     "ename": "ModuleNotFoundError",
     "evalue": "No module named 'grakel'",
     "output_type": "error",
     "traceback": [
      "\u001b[0;31m---------------------------------------------------------------------------\u001b[0m",
      "\u001b[0;31mModuleNotFoundError\u001b[0m                       Traceback (most recent call last)",
      "\u001b[0;32m<ipython-input-1-644ff2be7a71>\u001b[0m in \u001b[0;36m<module>\u001b[0;34m\u001b[0m\n\u001b[1;32m      3\u001b[0m \u001b[0;32mimport\u001b[0m \u001b[0mnumpy\u001b[0m \u001b[0;32mas\u001b[0m \u001b[0mnp\u001b[0m\u001b[0;34m\u001b[0m\u001b[0;34m\u001b[0m\u001b[0m\n\u001b[1;32m      4\u001b[0m \u001b[0;34m\u001b[0m\u001b[0m\n\u001b[0;32m----> 5\u001b[0;31m \u001b[0;32mfrom\u001b[0m \u001b[0mgrakel\u001b[0m\u001b[0;34m.\u001b[0m\u001b[0mutils\u001b[0m \u001b[0;32mimport\u001b[0m \u001b[0mgraph_from_networkx\u001b[0m\u001b[0;34m\u001b[0m\u001b[0;34m\u001b[0m\u001b[0m\n\u001b[0m\u001b[1;32m      6\u001b[0m \u001b[0;32mfrom\u001b[0m \u001b[0mgrakel\u001b[0m\u001b[0;34m.\u001b[0m\u001b[0mkernels\u001b[0m \u001b[0;32mimport\u001b[0m \u001b[0mWeisfeilerLehman\u001b[0m\u001b[0;34m,\u001b[0m \u001b[0mVertexHistogram\u001b[0m\u001b[0;34m\u001b[0m\u001b[0;34m\u001b[0m\u001b[0m\n\u001b[1;32m      7\u001b[0m \u001b[0;34m\u001b[0m\u001b[0m\n",
      "\u001b[0;31mModuleNotFoundError\u001b[0m: No module named 'grakel'"
     ]
    }
   ],
   "source": [
    "import pickle\n",
    "\n",
    "import numpy as np\n",
    "\n",
    "from grakel.utils import graph_from_networkx\n",
    "from grakel.kernels import WeisfeilerLehman, VertexHistogram\n",
    "\n",
    "from graph_dataset import GraphDataset\n",
    "\n",
    "from wl import WeisfeilerLeman\n",
    "from kernels import WLSubtreeKernel"
   ]
  },
  {
   "cell_type": "markdown",
   "metadata": {},
   "source": [
    "Dataset: KKI"
   ]
  },
  {
   "cell_type": "code",
   "execution_count": 2,
   "metadata": {},
   "outputs": [],
   "source": [
    "with open(\"./data-pickled/KKI\", mode=\"rb\") as pickled_data:\n",
    "    kki_dataset: GraphDataset = pickle.load(pickled_data)\n",
    "\n",
    "graphs = kki_dataset.get_graphs_as_disjoint_union()"
   ]
  },
  {
   "cell_type": "markdown",
   "metadata": {},
   "source": [
    "Refining color and generating kernel matrix using WLSubtreeKernel"
   ]
  },
  {
   "cell_type": "code",
   "execution_count": 3,
   "metadata": {},
   "outputs": [],
   "source": [
    "wl = WeisfeilerLeman(refinement_steps=4)\n",
    "\n",
    "wl.refine_color(graphs)\n",
    "\n",
    "fvs = wl.generate_feature_vectors(graphs)"
   ]
  },
  {
   "cell_type": "code",
   "execution_count": 4,
   "metadata": {},
   "outputs": [
    {
     "data": {
      "text/plain": [
       "array([[385.,   7.,   0., ...,   7.,  10.,   2.],\n",
       "       [  7., 175.,   7., ...,   0.,   2.,   0.],\n",
       "       [  0.,   7.,  65., ...,   0.,   0.,   0.],\n",
       "       ...,\n",
       "       [  7.,   0.,   0., ...,  50.,   4.,   3.],\n",
       "       [ 10.,   2.,   0., ...,   4.,  85.,   0.],\n",
       "       [  2.,   0.,   0., ...,   3.,   0.,  30.]])"
      ]
     },
     "execution_count": 4,
     "metadata": {},
     "output_type": "execute_result"
    }
   ],
   "source": [
    "kernel = WLSubtreeKernel()\n",
    "\n",
    "wl_kernel_matrix = kernel.compute_kernel_matrix(fvs)\n",
    "\n",
    "wl_kernel_matrix"
   ]
  },
  {
   "cell_type": "markdown",
   "metadata": {},
   "source": [
    "Generating kernel matrix using Grakel's WL implementation"
   ]
  },
  {
   "cell_type": "code",
   "execution_count": 5,
   "metadata": {},
   "outputs": [],
   "source": [
    "graphs = graph_from_networkx(list(kki_dataset.get_graphs().values()), node_labels_tag='label')"
   ]
  },
  {
   "cell_type": "code",
   "execution_count": 6,
   "metadata": {},
   "outputs": [
    {
     "data": {
      "text/plain": [
       "array([[385,   7,   0, ...,   7,  10,   2],\n",
       "       [  7, 175,   7, ...,   0,   2,   0],\n",
       "       [  0,   7,  65, ...,   0,   0,   0],\n",
       "       ...,\n",
       "       [  7,   0,   0, ...,  50,   4,   3],\n",
       "       [ 10,   2,   0, ...,   4,  85,   0],\n",
       "       [  2,   0,   0, ...,   3,   0,  30]])"
      ]
     },
     "execution_count": 6,
     "metadata": {},
     "output_type": "execute_result"
    }
   ],
   "source": [
    "gk = WeisfeilerLehman(n_iter=4, base_graph_kernel=VertexHistogram)\n",
    "\n",
    "grakel_kernel_matrix = gk.fit_transform(graphs)\n",
    "\n",
    "grakel_kernel_matrix"
   ]
  },
  {
   "cell_type": "code",
   "execution_count": 7,
   "metadata": {},
   "outputs": [
    {
     "data": {
      "text/plain": [
       "True"
      ]
     },
     "execution_count": 7,
     "metadata": {},
     "output_type": "execute_result"
    }
   ],
   "source": [
    "np.all(wl_kernel_matrix == grakel_kernel_matrix)"
   ]
  },
  {
   "cell_type": "markdown",
   "metadata": {},
   "source": [
    "Dataset: MSRC_9"
   ]
  },
  {
   "cell_type": "code",
   "execution_count": 8,
   "metadata": {},
   "outputs": [],
   "source": [
    "with open(\"./data-pickled/MSRC_9\", mode=\"rb\") as pickled_data:\n",
    "    msrc_dataset: GraphDataset = pickle.load(pickled_data)\n",
    "\n",
    "graphs = msrc_dataset.get_graphs_as_disjoint_union()"
   ]
  },
  {
   "cell_type": "markdown",
   "metadata": {},
   "source": [
    "Refining color and generating kernel matrix using WLSubtreeKernel"
   ]
  },
  {
   "cell_type": "code",
   "execution_count": 9,
   "metadata": {},
   "outputs": [],
   "source": [
    "wl = WeisfeilerLeman(refinement_steps=4)\n",
    "\n",
    "wl.refine_color(graphs)\n",
    "\n",
    "fvs = wl.generate_feature_vectors(graphs)"
   ]
  },
  {
   "cell_type": "code",
   "execution_count": 10,
   "metadata": {},
   "outputs": [
    {
     "data": {
      "text/plain": [
       "array([[2285.,    0.,  811., ...,    0.,    0.,    0.],\n",
       "       [   0.,  980.,   81., ...,  501.,  303.,  287.],\n",
       "       [ 811.,   81.,  673., ...,  118.,  236.,   30.],\n",
       "       ...,\n",
       "       [   0.,  501.,  118., ..., 1033.,  611.,  511.],\n",
       "       [   0.,  303.,  236., ...,  611., 1043.,  251.],\n",
       "       [   0.,  287.,   30., ...,  511.,  251.,  447.]])"
      ]
     },
     "execution_count": 10,
     "metadata": {},
     "output_type": "execute_result"
    }
   ],
   "source": [
    "kernel = WLSubtreeKernel()\n",
    "\n",
    "wl_kernel_matrix = kernel.compute_kernel_matrix(fvs)\n",
    "\n",
    "wl_kernel_matrix"
   ]
  },
  {
   "cell_type": "markdown",
   "metadata": {},
   "source": [
    "Generating kernel matrix using Grakel's WL implementation"
   ]
  },
  {
   "cell_type": "code",
   "execution_count": 11,
   "metadata": {},
   "outputs": [],
   "source": [
    "graphs = graph_from_networkx(list(msrc_dataset.get_graphs().values()), node_labels_tag=\"label\")"
   ]
  },
  {
   "cell_type": "code",
   "execution_count": 12,
   "metadata": {},
   "outputs": [
    {
     "data": {
      "text/plain": [
       "array([[2285,    0,  811, ...,    0,    0,    0],\n",
       "       [   0,  980,   81, ...,  501,  303,  287],\n",
       "       [ 811,   81,  673, ...,  118,  236,   30],\n",
       "       ...,\n",
       "       [   0,  501,  118, ..., 1033,  611,  511],\n",
       "       [   0,  303,  236, ...,  611, 1043,  251],\n",
       "       [   0,  287,   30, ...,  511,  251,  447]])"
      ]
     },
     "execution_count": 12,
     "metadata": {},
     "output_type": "execute_result"
    }
   ],
   "source": [
    "gk = WeisfeilerLehman(n_iter=4, base_graph_kernel=VertexHistogram)\n",
    "\n",
    "grakel_kernel_matrix = gk.fit_transform(graphs)\n",
    "\n",
    "grakel_kernel_matrix"
   ]
  },
  {
   "cell_type": "code",
   "execution_count": 13,
   "metadata": {},
   "outputs": [
    {
     "data": {
      "text/plain": [
       "True"
      ]
     },
     "execution_count": 13,
     "metadata": {},
     "output_type": "execute_result"
    }
   ],
   "source": [
    "np.all(grakel_kernel_matrix == wl_kernel_matrix)"
   ]
  }
 ],
 "metadata": {
  "kernelspec": {
   "display_name": "Python 3",
   "language": "python",
   "name": "python3"
  },
  "language_info": {
   "codemirror_mode": {
    "name": "ipython",
    "version": 3
   },
   "file_extension": ".py",
   "mimetype": "text/x-python",
   "name": "python",
   "nbconvert_exporter": "python",
   "pygments_lexer": "ipython3",
   "version": "3.8.10"
  }
 },
 "nbformat": 4,
 "nbformat_minor": 2
}
