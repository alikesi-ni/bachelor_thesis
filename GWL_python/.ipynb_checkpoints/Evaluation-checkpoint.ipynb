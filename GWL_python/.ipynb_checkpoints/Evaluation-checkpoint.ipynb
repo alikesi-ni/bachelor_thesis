{
 "cells": [
  {
   "cell_type": "markdown",
   "metadata": {},
   "source": [
    "## Evaluation Summary: Gradual Weisfeiler Leman"
   ]
  },
  {
   "cell_type": "code",
   "execution_count": 1,
   "metadata": {},
   "outputs": [],
   "source": [
    "import json\n",
    "import pandas as pd"
   ]
  },
  {
   "cell_type": "code",
   "execution_count": 2,
   "metadata": {},
   "outputs": [],
   "source": [
    "best_hyperparameters = pd.DataFrame(\n",
    "    columns=['refinement-steps', 'num-clusters', 'cluster-init-method', 'C', 'average-accuracy'],\n",
    "    index=['KKI', 'PTC_FM', 'EGO-1', 'EGO-2', 'EGO-3', 'EGO-4', 'MSRC_9', \n",
    "           'NCI1', 'IMDB-BINARY','REDDIT-BINARY', 'DD', 'COLLAB']\n",
    ")\n",
    "\n",
    "dataset_accuracy = pd.DataFrame(\n",
    "    columns=['accuracy-mean', 'accuracy-std'],\n",
    "    index=['KKI', 'PTC_FM', 'EGO-1', 'EGO-2', 'EGO-3', 'EGO-4', 'MSRC_9', \n",
    "           'NCI1', 'IMDB-BINARY','REDDIT-BINARY', 'DD', 'COLLAB']\n",
    ")"
   ]
  },
  {
   "cell_type": "markdown",
   "metadata": {},
   "source": [
    "#### Dataset: KKI"
   ]
  },
  {
   "cell_type": "code",
   "execution_count": 3,
   "metadata": {},
   "outputs": [],
   "source": [
    "dataset = \"KKI\""
   ]
  },
  {
   "cell_type": "markdown",
   "metadata": {},
   "source": [
    "Best Hyperparameter obtained"
   ]
  },
  {
   "cell_type": "code",
   "execution_count": 4,
   "metadata": {},
   "outputs": [
    {
     "data": {
      "text/plain": [
       "{'refinement-steps': 10,\n",
       " 'num-clusters': 2,\n",
       " 'cluster-init-method': 'kmeans++',\n",
       " 'C': 10.0,\n",
       " 'average-accuracy': 63.61}"
      ]
     },
     "execution_count": 4,
     "metadata": {},
     "output_type": "execute_result"
    }
   ],
   "source": [
    "with open(f\"evaluation-results/{dataset}-Evaluation/best_hyperparameters.txt\", mode=\"r\") as f:\n",
    "    params = json.loads(f.readline().replace(\"\\'\", \"\\\"\"))\n",
    "\n",
    "for key in params.keys():\n",
    "    best_hyperparameters.loc[dataset, key] = params[key]\n",
    "\n",
    "params"
   ]
  },
  {
   "cell_type": "markdown",
   "metadata": {},
   "source": [
    "Accuracies from 10 fold CV repeated 10 times"
   ]
  },
  {
   "cell_type": "code",
   "execution_count": 5,
   "metadata": {},
   "outputs": [
    {
     "data": {
      "text/html": [
       "<div>\n",
       "<style scoped>\n",
       "    .dataframe tbody tr th:only-of-type {\n",
       "        vertical-align: middle;\n",
       "    }\n",
       "\n",
       "    .dataframe tbody tr th {\n",
       "        vertical-align: top;\n",
       "    }\n",
       "\n",
       "    .dataframe thead th {\n",
       "        text-align: right;\n",
       "    }\n",
       "</style>\n",
       "<table border=\"1\" class=\"dataframe\">\n",
       "  <thead>\n",
       "    <tr style=\"text-align: right;\">\n",
       "      <th></th>\n",
       "      <th>Average-Accuracy</th>\n",
       "    </tr>\n",
       "  </thead>\n",
       "  <tbody>\n",
       "    <tr>\n",
       "      <th>count</th>\n",
       "      <td>10.000000</td>\n",
       "    </tr>\n",
       "    <tr>\n",
       "      <th>mean</th>\n",
       "      <td>55.528000</td>\n",
       "    </tr>\n",
       "    <tr>\n",
       "      <th>std</th>\n",
       "      <td>3.459572</td>\n",
       "    </tr>\n",
       "    <tr>\n",
       "      <th>min</th>\n",
       "      <td>50.970000</td>\n",
       "    </tr>\n",
       "    <tr>\n",
       "      <th>25%</th>\n",
       "      <td>52.917500</td>\n",
       "    </tr>\n",
       "    <tr>\n",
       "      <th>50%</th>\n",
       "      <td>55.835000</td>\n",
       "    </tr>\n",
       "    <tr>\n",
       "      <th>75%</th>\n",
       "      <td>57.117500</td>\n",
       "    </tr>\n",
       "    <tr>\n",
       "      <th>max</th>\n",
       "      <td>62.780000</td>\n",
       "    </tr>\n",
       "  </tbody>\n",
       "</table>\n",
       "</div>"
      ],
      "text/plain": [
       "       Average-Accuracy\n",
       "count         10.000000\n",
       "mean          55.528000\n",
       "std            3.459572\n",
       "min           50.970000\n",
       "25%           52.917500\n",
       "50%           55.835000\n",
       "75%           57.117500\n",
       "max           62.780000"
      ]
     },
     "execution_count": 5,
     "metadata": {},
     "output_type": "execute_result"
    }
   ],
   "source": [
    "accuracies = pd.read_csv(f\"evaluation-results/{dataset}-Evaluation/trial-accuracies.csv\", sep=\";\")\n",
    "\n",
    "accuracies_stat = accuracies[[\"Average-Accuracy\"]].describe()\n",
    "\n",
    "dataset_accuracy.loc[dataset, 'accuracy-mean'] = accuracies_stat[\"Average-Accuracy\"][\"mean\"]\n",
    "dataset_accuracy.loc[dataset, 'accuracy-std'] = accuracies_stat[\"Average-Accuracy\"][\"std\"]\n",
    "\n",
    "accuracies_stat"
   ]
  },
  {
   "cell_type": "markdown",
   "metadata": {},
   "source": [
    "#### Dataset: PTC_FM"
   ]
  },
  {
   "cell_type": "code",
   "execution_count": 6,
   "metadata": {},
   "outputs": [],
   "source": [
    "dataset = \"PTC_FM\""
   ]
  },
  {
   "cell_type": "markdown",
   "metadata": {},
   "source": [
    "Best Hyperparameter obtained"
   ]
  },
  {
   "cell_type": "code",
   "execution_count": 7,
   "metadata": {},
   "outputs": [
    {
     "data": {
      "text/plain": [
       "{'refinement-steps': 9,\n",
       " 'num-clusters': 4,\n",
       " 'cluster-init-method': 'forgy',\n",
       " 'C': 10.0,\n",
       " 'average-accuracy': 68.78}"
      ]
     },
     "execution_count": 7,
     "metadata": {},
     "output_type": "execute_result"
    }
   ],
   "source": [
    "with open(f\"evaluation-results/{dataset}-Evaluation/best_hyperparameters.txt\", mode=\"r\") as f:\n",
    "    params = json.loads(f.readline().replace(\"\\'\", \"\\\"\"))\n",
    "\n",
    "for key in params.keys():\n",
    "    best_hyperparameters.loc[dataset, key] = params[key]\n",
    "\n",
    "params"
   ]
  },
  {
   "cell_type": "markdown",
   "metadata": {},
   "source": [
    "Accuracies from 10 fold CV repeated 10 times"
   ]
  },
  {
   "cell_type": "code",
   "execution_count": 8,
   "metadata": {},
   "outputs": [
    {
     "data": {
      "text/html": [
       "<div>\n",
       "<style scoped>\n",
       "    .dataframe tbody tr th:only-of-type {\n",
       "        vertical-align: middle;\n",
       "    }\n",
       "\n",
       "    .dataframe tbody tr th {\n",
       "        vertical-align: top;\n",
       "    }\n",
       "\n",
       "    .dataframe thead th {\n",
       "        text-align: right;\n",
       "    }\n",
       "</style>\n",
       "<table border=\"1\" class=\"dataframe\">\n",
       "  <thead>\n",
       "    <tr style=\"text-align: right;\">\n",
       "      <th></th>\n",
       "      <th>Average-Accuracy</th>\n",
       "    </tr>\n",
       "  </thead>\n",
       "  <tbody>\n",
       "    <tr>\n",
       "      <th>count</th>\n",
       "      <td>10.000000</td>\n",
       "    </tr>\n",
       "    <tr>\n",
       "      <th>mean</th>\n",
       "      <td>65.617000</td>\n",
       "    </tr>\n",
       "    <tr>\n",
       "      <th>std</th>\n",
       "      <td>1.137952</td>\n",
       "    </tr>\n",
       "    <tr>\n",
       "      <th>min</th>\n",
       "      <td>64.190000</td>\n",
       "    </tr>\n",
       "    <tr>\n",
       "      <th>25%</th>\n",
       "      <td>65.052500</td>\n",
       "    </tr>\n",
       "    <tr>\n",
       "      <th>50%</th>\n",
       "      <td>65.315000</td>\n",
       "    </tr>\n",
       "    <tr>\n",
       "      <th>75%</th>\n",
       "      <td>65.907500</td>\n",
       "    </tr>\n",
       "    <tr>\n",
       "      <th>max</th>\n",
       "      <td>67.920000</td>\n",
       "    </tr>\n",
       "  </tbody>\n",
       "</table>\n",
       "</div>"
      ],
      "text/plain": [
       "       Average-Accuracy\n",
       "count         10.000000\n",
       "mean          65.617000\n",
       "std            1.137952\n",
       "min           64.190000\n",
       "25%           65.052500\n",
       "50%           65.315000\n",
       "75%           65.907500\n",
       "max           67.920000"
      ]
     },
     "execution_count": 8,
     "metadata": {},
     "output_type": "execute_result"
    }
   ],
   "source": [
    "accuracies = pd.read_csv(f\"evaluation-results/{dataset}-Evaluation/trial-accuracies.csv\", sep=\";\")\n",
    "\n",
    "accuracies_stat = accuracies[[\"Average-Accuracy\"]].describe()\n",
    "\n",
    "dataset_accuracy.loc[dataset, 'accuracy-mean'] = accuracies_stat[\"Average-Accuracy\"][\"mean\"]\n",
    "dataset_accuracy.loc[dataset, 'accuracy-std'] = accuracies_stat[\"Average-Accuracy\"][\"std\"]\n",
    "\n",
    "accuracies_stat"
   ]
  },
  {
   "cell_type": "markdown",
   "metadata": {},
   "source": [
    "#### Dataset: EGO-1"
   ]
  },
  {
   "cell_type": "code",
   "execution_count": 9,
   "metadata": {},
   "outputs": [],
   "source": [
    "dataset = \"EGO-1\""
   ]
  },
  {
   "cell_type": "markdown",
   "metadata": {},
   "source": [
    "Best Hyperparameter obtained"
   ]
  },
  {
   "cell_type": "code",
   "execution_count": 10,
   "metadata": {},
   "outputs": [
    {
     "data": {
      "text/plain": [
       "{'refinement-steps': 4,\n",
       " 'num-clusters': 4,\n",
       " 'cluster-init-method': 'kmeans++',\n",
       " 'C': 10.0,\n",
       " 'average-accuracy': 73.5}"
      ]
     },
     "execution_count": 10,
     "metadata": {},
     "output_type": "execute_result"
    }
   ],
   "source": [
    "with open(f\"evaluation-results/{dataset}-Evaluation/best_hyperparameters.txt\", mode=\"r\") as f:\n",
    "    params = json.loads(f.readline().replace(\"\\'\", \"\\\"\"))\n",
    "\n",
    "for key in params.keys():\n",
    "    best_hyperparameters.loc[dataset, key] = params[key]\n",
    "\n",
    "params"
   ]
  },
  {
   "cell_type": "markdown",
   "metadata": {},
   "source": [
    "Accuracies from 10 fold CV repeated 10 times"
   ]
  },
  {
   "cell_type": "code",
   "execution_count": 11,
   "metadata": {},
   "outputs": [
    {
     "data": {
      "text/html": [
       "<div>\n",
       "<style scoped>\n",
       "    .dataframe tbody tr th:only-of-type {\n",
       "        vertical-align: middle;\n",
       "    }\n",
       "\n",
       "    .dataframe tbody tr th {\n",
       "        vertical-align: top;\n",
       "    }\n",
       "\n",
       "    .dataframe thead th {\n",
       "        text-align: right;\n",
       "    }\n",
       "</style>\n",
       "<table border=\"1\" class=\"dataframe\">\n",
       "  <thead>\n",
       "    <tr style=\"text-align: right;\">\n",
       "      <th></th>\n",
       "      <th>Average-Accuracy</th>\n",
       "    </tr>\n",
       "  </thead>\n",
       "  <tbody>\n",
       "    <tr>\n",
       "      <th>count</th>\n",
       "      <td>10.000000</td>\n",
       "    </tr>\n",
       "    <tr>\n",
       "      <th>mean</th>\n",
       "      <td>72.250000</td>\n",
       "    </tr>\n",
       "    <tr>\n",
       "      <th>std</th>\n",
       "      <td>1.230402</td>\n",
       "    </tr>\n",
       "    <tr>\n",
       "      <th>min</th>\n",
       "      <td>70.500000</td>\n",
       "    </tr>\n",
       "    <tr>\n",
       "      <th>25%</th>\n",
       "      <td>71.625000</td>\n",
       "    </tr>\n",
       "    <tr>\n",
       "      <th>50%</th>\n",
       "      <td>72.000000</td>\n",
       "    </tr>\n",
       "    <tr>\n",
       "      <th>75%</th>\n",
       "      <td>72.500000</td>\n",
       "    </tr>\n",
       "    <tr>\n",
       "      <th>max</th>\n",
       "      <td>74.500000</td>\n",
       "    </tr>\n",
       "  </tbody>\n",
       "</table>\n",
       "</div>"
      ],
      "text/plain": [
       "       Average-Accuracy\n",
       "count         10.000000\n",
       "mean          72.250000\n",
       "std            1.230402\n",
       "min           70.500000\n",
       "25%           71.625000\n",
       "50%           72.000000\n",
       "75%           72.500000\n",
       "max           74.500000"
      ]
     },
     "execution_count": 11,
     "metadata": {},
     "output_type": "execute_result"
    }
   ],
   "source": [
    "accuracies = pd.read_csv(f\"evaluation-results/{dataset}-Evaluation/trial-accuracies.csv\", sep=\";\")\n",
    "\n",
    "accuracies_stat = accuracies[[\"Average-Accuracy\"]].describe()\n",
    "\n",
    "dataset_accuracy.loc[dataset, 'accuracy-mean'] = accuracies_stat[\"Average-Accuracy\"][\"mean\"]\n",
    "dataset_accuracy.loc[dataset, 'accuracy-std'] = accuracies_stat[\"Average-Accuracy\"][\"std\"]\n",
    "\n",
    "accuracies_stat"
   ]
  },
  {
   "cell_type": "markdown",
   "metadata": {},
   "source": [
    "#### Dataset: EGO-2"
   ]
  },
  {
   "cell_type": "code",
   "execution_count": 12,
   "metadata": {},
   "outputs": [],
   "source": [
    "dataset = \"EGO-2\""
   ]
  },
  {
   "cell_type": "markdown",
   "metadata": {},
   "source": [
    "Best Hyperparameter obtained"
   ]
  },
  {
   "cell_type": "code",
   "execution_count": 13,
   "metadata": {},
   "outputs": [
    {
     "data": {
      "text/plain": [
       "{'refinement-steps': 6,\n",
       " 'num-clusters': 8,\n",
       " 'cluster-init-method': 'kmeans++',\n",
       " 'C': 1000.0,\n",
       " 'average-accuracy': 76.0}"
      ]
     },
     "execution_count": 13,
     "metadata": {},
     "output_type": "execute_result"
    }
   ],
   "source": [
    "with open(f\"evaluation-results/{dataset}-Evaluation/best_hyperparameters.txt\", mode=\"r\") as f:\n",
    "    params = json.loads(f.readline().replace(\"\\'\", \"\\\"\"))\n",
    "\n",
    "for key in params.keys():\n",
    "    best_hyperparameters.loc[dataset, key] = params[key]\n",
    "\n",
    "params"
   ]
  },
  {
   "cell_type": "markdown",
   "metadata": {},
   "source": [
    "Accuracies from 10 fold CV repeated 10 times"
   ]
  },
  {
   "cell_type": "code",
   "execution_count": 14,
   "metadata": {},
   "outputs": [
    {
     "data": {
      "text/html": [
       "<div>\n",
       "<style scoped>\n",
       "    .dataframe tbody tr th:only-of-type {\n",
       "        vertical-align: middle;\n",
       "    }\n",
       "\n",
       "    .dataframe tbody tr th {\n",
       "        vertical-align: top;\n",
       "    }\n",
       "\n",
       "    .dataframe thead th {\n",
       "        text-align: right;\n",
       "    }\n",
       "</style>\n",
       "<table border=\"1\" class=\"dataframe\">\n",
       "  <thead>\n",
       "    <tr style=\"text-align: right;\">\n",
       "      <th></th>\n",
       "      <th>Average-Accuracy</th>\n",
       "    </tr>\n",
       "  </thead>\n",
       "  <tbody>\n",
       "    <tr>\n",
       "      <th>count</th>\n",
       "      <td>10.000000</td>\n",
       "    </tr>\n",
       "    <tr>\n",
       "      <th>mean</th>\n",
       "      <td>73.200000</td>\n",
       "    </tr>\n",
       "    <tr>\n",
       "      <th>std</th>\n",
       "      <td>1.358103</td>\n",
       "    </tr>\n",
       "    <tr>\n",
       "      <th>min</th>\n",
       "      <td>71.000000</td>\n",
       "    </tr>\n",
       "    <tr>\n",
       "      <th>25%</th>\n",
       "      <td>72.125000</td>\n",
       "    </tr>\n",
       "    <tr>\n",
       "      <th>50%</th>\n",
       "      <td>73.250000</td>\n",
       "    </tr>\n",
       "    <tr>\n",
       "      <th>75%</th>\n",
       "      <td>74.000000</td>\n",
       "    </tr>\n",
       "    <tr>\n",
       "      <th>max</th>\n",
       "      <td>75.500000</td>\n",
       "    </tr>\n",
       "  </tbody>\n",
       "</table>\n",
       "</div>"
      ],
      "text/plain": [
       "       Average-Accuracy\n",
       "count         10.000000\n",
       "mean          73.200000\n",
       "std            1.358103\n",
       "min           71.000000\n",
       "25%           72.125000\n",
       "50%           73.250000\n",
       "75%           74.000000\n",
       "max           75.500000"
      ]
     },
     "execution_count": 14,
     "metadata": {},
     "output_type": "execute_result"
    }
   ],
   "source": [
    "accuracies = pd.read_csv(f\"evaluation-results/{dataset}-Evaluation/trial-accuracies.csv\", sep=\";\")\n",
    "\n",
    "accuracies_stat = accuracies[[\"Average-Accuracy\"]].describe()\n",
    "\n",
    "dataset_accuracy.loc[dataset, 'accuracy-mean'] = accuracies_stat[\"Average-Accuracy\"][\"mean\"]\n",
    "dataset_accuracy.loc[dataset, 'accuracy-std'] = accuracies_stat[\"Average-Accuracy\"][\"std\"]\n",
    "\n",
    "accuracies_stat"
   ]
  },
  {
   "cell_type": "markdown",
   "metadata": {},
   "source": [
    "#### Dataset: EGO-3"
   ]
  },
  {
   "cell_type": "code",
   "execution_count": 15,
   "metadata": {},
   "outputs": [],
   "source": [
    "dataset = \"EGO-3\""
   ]
  },
  {
   "cell_type": "markdown",
   "metadata": {},
   "source": [
    "Best Hyperparameter obtained"
   ]
  },
  {
   "cell_type": "code",
   "execution_count": 16,
   "metadata": {},
   "outputs": [
    {
     "data": {
      "text/plain": [
       "{'refinement-steps': 7,\n",
       " 'num-clusters': 8,\n",
       " 'cluster-init-method': 'kmeans++',\n",
       " 'C': 100.0,\n",
       " 'average-accuracy': 74.0}"
      ]
     },
     "execution_count": 16,
     "metadata": {},
     "output_type": "execute_result"
    }
   ],
   "source": [
    "with open(f\"evaluation-results/{dataset}-Evaluation/best_hyperparameters.txt\", mode=\"r\") as f:\n",
    "    params = json.loads(f.readline().replace(\"\\'\", \"\\\"\"))\n",
    "\n",
    "for key in params.keys():\n",
    "    best_hyperparameters.loc[dataset, key] = params[key]\n",
    "\n",
    "params"
   ]
  },
  {
   "cell_type": "markdown",
   "metadata": {},
   "source": [
    "Accuracies from 10 fold CV repeated 10 times"
   ]
  },
  {
   "cell_type": "code",
   "execution_count": 17,
   "metadata": {},
   "outputs": [
    {
     "data": {
      "text/html": [
       "<div>\n",
       "<style scoped>\n",
       "    .dataframe tbody tr th:only-of-type {\n",
       "        vertical-align: middle;\n",
       "    }\n",
       "\n",
       "    .dataframe tbody tr th {\n",
       "        vertical-align: top;\n",
       "    }\n",
       "\n",
       "    .dataframe thead th {\n",
       "        text-align: right;\n",
       "    }\n",
       "</style>\n",
       "<table border=\"1\" class=\"dataframe\">\n",
       "  <thead>\n",
       "    <tr style=\"text-align: right;\">\n",
       "      <th></th>\n",
       "      <th>Average-Accuracy</th>\n",
       "    </tr>\n",
       "  </thead>\n",
       "  <tbody>\n",
       "    <tr>\n",
       "      <th>count</th>\n",
       "      <td>10.000000</td>\n",
       "    </tr>\n",
       "    <tr>\n",
       "      <th>mean</th>\n",
       "      <td>70.400000</td>\n",
       "    </tr>\n",
       "    <tr>\n",
       "      <th>std</th>\n",
       "      <td>1.696401</td>\n",
       "    </tr>\n",
       "    <tr>\n",
       "      <th>min</th>\n",
       "      <td>66.000000</td>\n",
       "    </tr>\n",
       "    <tr>\n",
       "      <th>25%</th>\n",
       "      <td>70.500000</td>\n",
       "    </tr>\n",
       "    <tr>\n",
       "      <th>50%</th>\n",
       "      <td>70.750000</td>\n",
       "    </tr>\n",
       "    <tr>\n",
       "      <th>75%</th>\n",
       "      <td>71.375000</td>\n",
       "    </tr>\n",
       "    <tr>\n",
       "      <th>max</th>\n",
       "      <td>72.000000</td>\n",
       "    </tr>\n",
       "  </tbody>\n",
       "</table>\n",
       "</div>"
      ],
      "text/plain": [
       "       Average-Accuracy\n",
       "count         10.000000\n",
       "mean          70.400000\n",
       "std            1.696401\n",
       "min           66.000000\n",
       "25%           70.500000\n",
       "50%           70.750000\n",
       "75%           71.375000\n",
       "max           72.000000"
      ]
     },
     "execution_count": 17,
     "metadata": {},
     "output_type": "execute_result"
    }
   ],
   "source": [
    "accuracies = pd.read_csv(f\"evaluation-results/{dataset}-Evaluation/trial-accuracies.csv\", sep=\";\")\n",
    "\n",
    "accuracies_stat = accuracies[[\"Average-Accuracy\"]].describe()\n",
    "\n",
    "dataset_accuracy.loc[dataset, 'accuracy-mean'] = accuracies_stat[\"Average-Accuracy\"][\"mean\"]\n",
    "dataset_accuracy.loc[dataset, 'accuracy-std'] = accuracies_stat[\"Average-Accuracy\"][\"std\"]\n",
    "\n",
    "accuracies_stat"
   ]
  },
  {
   "cell_type": "markdown",
   "metadata": {},
   "source": [
    "#### Dataset: EGO-4"
   ]
  },
  {
   "cell_type": "code",
   "execution_count": 18,
   "metadata": {},
   "outputs": [],
   "source": [
    "dataset = \"EGO-4\""
   ]
  },
  {
   "cell_type": "markdown",
   "metadata": {},
   "source": [
    "Best Hyperparameter obtained"
   ]
  },
  {
   "cell_type": "code",
   "execution_count": 19,
   "metadata": {},
   "outputs": [
    {
     "data": {
      "text/plain": [
       "{'refinement-steps': 3,\n",
       " 'num-clusters': 8,\n",
       " 'cluster-init-method': 'kmeans++',\n",
       " 'C': 100.0,\n",
       " 'average-accuracy': 81.0}"
      ]
     },
     "execution_count": 19,
     "metadata": {},
     "output_type": "execute_result"
    }
   ],
   "source": [
    "with open(f\"evaluation-results/{dataset}-Evaluation/best_hyperparameters.txt\", mode=\"r\") as f:\n",
    "    params = json.loads(f.readline().replace(\"\\'\", \"\\\"\"))\n",
    "\n",
    "for key in params.keys():\n",
    "    best_hyperparameters.loc[dataset, key] = params[key]\n",
    "\n",
    "params"
   ]
  },
  {
   "cell_type": "markdown",
   "metadata": {},
   "source": [
    "Accuracies from 10 fold CV repeated 10 times"
   ]
  },
  {
   "cell_type": "code",
   "execution_count": 20,
   "metadata": {},
   "outputs": [
    {
     "data": {
      "text/html": [
       "<div>\n",
       "<style scoped>\n",
       "    .dataframe tbody tr th:only-of-type {\n",
       "        vertical-align: middle;\n",
       "    }\n",
       "\n",
       "    .dataframe tbody tr th {\n",
       "        vertical-align: top;\n",
       "    }\n",
       "\n",
       "    .dataframe thead th {\n",
       "        text-align: right;\n",
       "    }\n",
       "</style>\n",
       "<table border=\"1\" class=\"dataframe\">\n",
       "  <thead>\n",
       "    <tr style=\"text-align: right;\">\n",
       "      <th></th>\n",
       "      <th>Average-Accuracy</th>\n",
       "    </tr>\n",
       "  </thead>\n",
       "  <tbody>\n",
       "    <tr>\n",
       "      <th>count</th>\n",
       "      <td>10.000000</td>\n",
       "    </tr>\n",
       "    <tr>\n",
       "      <th>mean</th>\n",
       "      <td>79.500000</td>\n",
       "    </tr>\n",
       "    <tr>\n",
       "      <th>std</th>\n",
       "      <td>1.699673</td>\n",
       "    </tr>\n",
       "    <tr>\n",
       "      <th>min</th>\n",
       "      <td>76.500000</td>\n",
       "    </tr>\n",
       "    <tr>\n",
       "      <th>25%</th>\n",
       "      <td>78.500000</td>\n",
       "    </tr>\n",
       "    <tr>\n",
       "      <th>50%</th>\n",
       "      <td>79.250000</td>\n",
       "    </tr>\n",
       "    <tr>\n",
       "      <th>75%</th>\n",
       "      <td>80.375000</td>\n",
       "    </tr>\n",
       "    <tr>\n",
       "      <th>max</th>\n",
       "      <td>82.000000</td>\n",
       "    </tr>\n",
       "  </tbody>\n",
       "</table>\n",
       "</div>"
      ],
      "text/plain": [
       "       Average-Accuracy\n",
       "count         10.000000\n",
       "mean          79.500000\n",
       "std            1.699673\n",
       "min           76.500000\n",
       "25%           78.500000\n",
       "50%           79.250000\n",
       "75%           80.375000\n",
       "max           82.000000"
      ]
     },
     "execution_count": 20,
     "metadata": {},
     "output_type": "execute_result"
    }
   ],
   "source": [
    "accuracies = pd.read_csv(f\"evaluation-results/{dataset}-Evaluation/trial-accuracies.csv\", sep=\";\")\n",
    "\n",
    "accuracies_stat = accuracies[[\"Average-Accuracy\"]].describe()\n",
    "\n",
    "dataset_accuracy.loc[dataset, 'accuracy-mean'] = accuracies_stat[\"Average-Accuracy\"][\"mean\"]\n",
    "dataset_accuracy.loc[dataset, 'accuracy-std'] = accuracies_stat[\"Average-Accuracy\"][\"std\"]\n",
    "\n",
    "accuracies_stat"
   ]
  },
  {
   "cell_type": "markdown",
   "metadata": {},
   "source": [
    "#### Dataset: MSRC_9"
   ]
  },
  {
   "cell_type": "code",
   "execution_count": 21,
   "metadata": {},
   "outputs": [],
   "source": [
    "dataset = \"MSRC_9\""
   ]
  },
  {
   "cell_type": "markdown",
   "metadata": {},
   "source": [
    "Best Hyperparameter obtained"
   ]
  },
  {
   "cell_type": "code",
   "execution_count": 22,
   "metadata": {},
   "outputs": [
    {
     "data": {
      "text/plain": [
       "{'refinement-steps': 2,\n",
       " 'num-clusters': 16,\n",
       " 'cluster-init-method': 'kmeans++',\n",
       " 'C': 100.0,\n",
       " 'average-accuracy': 93.22}"
      ]
     },
     "execution_count": 22,
     "metadata": {},
     "output_type": "execute_result"
    }
   ],
   "source": [
    "with open(f\"evaluation-results/{dataset}-Evaluation/best_hyperparameters.txt\", mode=\"r\") as f:\n",
    "    params = json.loads(f.readline().replace(\"\\'\", \"\\\"\"))\n",
    "\n",
    "for key in params.keys():\n",
    "    best_hyperparameters.loc[dataset, key] = params[key]\n",
    "\n",
    "params"
   ]
  },
  {
   "cell_type": "markdown",
   "metadata": {},
   "source": [
    "Accuracies from 10 fold CV repeated 10 times"
   ]
  },
  {
   "cell_type": "code",
   "execution_count": 23,
   "metadata": {},
   "outputs": [
    {
     "data": {
      "text/html": [
       "<div>\n",
       "<style scoped>\n",
       "    .dataframe tbody tr th:only-of-type {\n",
       "        vertical-align: middle;\n",
       "    }\n",
       "\n",
       "    .dataframe tbody tr th {\n",
       "        vertical-align: top;\n",
       "    }\n",
       "\n",
       "    .dataframe thead th {\n",
       "        text-align: right;\n",
       "    }\n",
       "</style>\n",
       "<table border=\"1\" class=\"dataframe\">\n",
       "  <thead>\n",
       "    <tr style=\"text-align: right;\">\n",
       "      <th></th>\n",
       "      <th>Average-Accuracy</th>\n",
       "    </tr>\n",
       "  </thead>\n",
       "  <tbody>\n",
       "    <tr>\n",
       "      <th>count</th>\n",
       "      <td>10.000000</td>\n",
       "    </tr>\n",
       "    <tr>\n",
       "      <th>mean</th>\n",
       "      <td>90.588000</td>\n",
       "    </tr>\n",
       "    <tr>\n",
       "      <th>std</th>\n",
       "      <td>0.932152</td>\n",
       "    </tr>\n",
       "    <tr>\n",
       "      <th>min</th>\n",
       "      <td>89.150000</td>\n",
       "    </tr>\n",
       "    <tr>\n",
       "      <th>25%</th>\n",
       "      <td>90.030000</td>\n",
       "    </tr>\n",
       "    <tr>\n",
       "      <th>50%</th>\n",
       "      <td>90.490000</td>\n",
       "    </tr>\n",
       "    <tr>\n",
       "      <th>75%</th>\n",
       "      <td>91.282500</td>\n",
       "    </tr>\n",
       "    <tr>\n",
       "      <th>max</th>\n",
       "      <td>91.880000</td>\n",
       "    </tr>\n",
       "  </tbody>\n",
       "</table>\n",
       "</div>"
      ],
      "text/plain": [
       "       Average-Accuracy\n",
       "count         10.000000\n",
       "mean          90.588000\n",
       "std            0.932152\n",
       "min           89.150000\n",
       "25%           90.030000\n",
       "50%           90.490000\n",
       "75%           91.282500\n",
       "max           91.880000"
      ]
     },
     "execution_count": 23,
     "metadata": {},
     "output_type": "execute_result"
    }
   ],
   "source": [
    "accuracies = pd.read_csv(f\"evaluation-results/{dataset}-Evaluation/trial-accuracies.csv\", sep=\";\")\n",
    "\n",
    "accuracies_stat = accuracies[[\"Average-Accuracy\"]].describe()\n",
    "\n",
    "dataset_accuracy.loc[dataset, 'accuracy-mean'] = accuracies_stat[\"Average-Accuracy\"][\"mean\"]\n",
    "dataset_accuracy.loc[dataset, 'accuracy-std'] = accuracies_stat[\"Average-Accuracy\"][\"std\"]\n",
    "\n",
    "accuracies_stat"
   ]
  },
  {
   "cell_type": "markdown",
   "metadata": {},
   "source": [
    "#### Dataset: NCI1"
   ]
  },
  {
   "cell_type": "code",
   "execution_count": 24,
   "metadata": {},
   "outputs": [],
   "source": [
    "dataset = \"NCI1\""
   ]
  },
  {
   "cell_type": "markdown",
   "metadata": {},
   "source": [
    "Best Hyperparameter obtained"
   ]
  },
  {
   "cell_type": "code",
   "execution_count": 25,
   "metadata": {},
   "outputs": [
    {
     "data": {
      "text/plain": [
       "{'refinement-steps': 10,\n",
       " 'num-clusters': 16,\n",
       " 'cluster-init-method': 'forgy',\n",
       " 'C': 10.0,\n",
       " 'average-accuracy': 77.42}"
      ]
     },
     "execution_count": 25,
     "metadata": {},
     "output_type": "execute_result"
    }
   ],
   "source": [
    "with open(f\"evaluation-results/{dataset}-Evaluation/best_hyperparameters.txt\", mode=\"r\") as f:\n",
    "    params = json.loads(f.readline().replace(\"\\'\", \"\\\"\"))\n",
    "\n",
    "for key in params.keys():\n",
    "    best_hyperparameters.loc[dataset, key] = params[key]\n",
    "\n",
    "params"
   ]
  },
  {
   "cell_type": "markdown",
   "metadata": {},
   "source": [
    "Accuracies from 10 fold CV repeated 10 times"
   ]
  },
  {
   "cell_type": "code",
   "execution_count": 26,
   "metadata": {},
   "outputs": [
    {
     "data": {
      "text/html": [
       "<div>\n",
       "<style scoped>\n",
       "    .dataframe tbody tr th:only-of-type {\n",
       "        vertical-align: middle;\n",
       "    }\n",
       "\n",
       "    .dataframe tbody tr th {\n",
       "        vertical-align: top;\n",
       "    }\n",
       "\n",
       "    .dataframe thead th {\n",
       "        text-align: right;\n",
       "    }\n",
       "</style>\n",
       "<table border=\"1\" class=\"dataframe\">\n",
       "  <thead>\n",
       "    <tr style=\"text-align: right;\">\n",
       "      <th></th>\n",
       "      <th>Average-Accuracy</th>\n",
       "    </tr>\n",
       "  </thead>\n",
       "  <tbody>\n",
       "    <tr>\n",
       "      <th>count</th>\n",
       "      <td>10.000000</td>\n",
       "    </tr>\n",
       "    <tr>\n",
       "      <th>mean</th>\n",
       "      <td>77.426000</td>\n",
       "    </tr>\n",
       "    <tr>\n",
       "      <th>std</th>\n",
       "      <td>0.565257</td>\n",
       "    </tr>\n",
       "    <tr>\n",
       "      <th>min</th>\n",
       "      <td>76.600000</td>\n",
       "    </tr>\n",
       "    <tr>\n",
       "      <th>25%</th>\n",
       "      <td>77.042500</td>\n",
       "    </tr>\n",
       "    <tr>\n",
       "      <th>50%</th>\n",
       "      <td>77.445000</td>\n",
       "    </tr>\n",
       "    <tr>\n",
       "      <th>75%</th>\n",
       "      <td>77.652500</td>\n",
       "    </tr>\n",
       "    <tr>\n",
       "      <th>max</th>\n",
       "      <td>78.490000</td>\n",
       "    </tr>\n",
       "  </tbody>\n",
       "</table>\n",
       "</div>"
      ],
      "text/plain": [
       "       Average-Accuracy\n",
       "count         10.000000\n",
       "mean          77.426000\n",
       "std            0.565257\n",
       "min           76.600000\n",
       "25%           77.042500\n",
       "50%           77.445000\n",
       "75%           77.652500\n",
       "max           78.490000"
      ]
     },
     "execution_count": 26,
     "metadata": {},
     "output_type": "execute_result"
    }
   ],
   "source": [
    "accuracies = pd.read_csv(f\"evaluation-results/{dataset}-Evaluation/trial-accuracies.csv\", sep=\";\")\n",
    "\n",
    "accuracies_stat = accuracies[[\"Average-Accuracy\"]].describe()\n",
    "\n",
    "dataset_accuracy.loc[dataset, 'accuracy-mean'] = accuracies_stat[\"Average-Accuracy\"][\"mean\"]\n",
    "dataset_accuracy.loc[dataset, 'accuracy-std'] = accuracies_stat[\"Average-Accuracy\"][\"std\"]\n",
    "\n",
    "accuracies_stat"
   ]
  },
  {
   "cell_type": "markdown",
   "metadata": {},
   "source": [
    "#### Dataset: IMDB-BINARY"
   ]
  },
  {
   "cell_type": "code",
   "execution_count": 27,
   "metadata": {},
   "outputs": [],
   "source": [
    "dataset = \"IMDB-BINARY\""
   ]
  },
  {
   "cell_type": "markdown",
   "metadata": {},
   "source": [
    "Best Hyperparameter obtained"
   ]
  },
  {
   "cell_type": "code",
   "execution_count": 28,
   "metadata": {},
   "outputs": [
    {
     "data": {
      "text/plain": [
       "{'refinement-steps': 3,\n",
       " 'num-clusters': 16,\n",
       " 'cluster-init-method': 'forgy',\n",
       " 'C': 10.0,\n",
       " 'average-accuracy': 75.5}"
      ]
     },
     "execution_count": 28,
     "metadata": {},
     "output_type": "execute_result"
    }
   ],
   "source": [
    "with open(f\"evaluation-results/{dataset}-Evaluation/best_hyperparameters.txt\", mode=\"r\") as f:\n",
    "    params = json.loads(f.readline().replace(\"\\'\", \"\\\"\"))\n",
    "\n",
    "for key in params.keys():\n",
    "    best_hyperparameters.loc[dataset, key] = params[key]\n",
    "\n",
    "params"
   ]
  },
  {
   "cell_type": "markdown",
   "metadata": {},
   "source": [
    "Accuracies from 10 fold CV repeated 10 times"
   ]
  },
  {
   "cell_type": "code",
   "execution_count": 29,
   "metadata": {},
   "outputs": [
    {
     "data": {
      "text/html": [
       "<div>\n",
       "<style scoped>\n",
       "    .dataframe tbody tr th:only-of-type {\n",
       "        vertical-align: middle;\n",
       "    }\n",
       "\n",
       "    .dataframe tbody tr th {\n",
       "        vertical-align: top;\n",
       "    }\n",
       "\n",
       "    .dataframe thead th {\n",
       "        text-align: right;\n",
       "    }\n",
       "</style>\n",
       "<table border=\"1\" class=\"dataframe\">\n",
       "  <thead>\n",
       "    <tr style=\"text-align: right;\">\n",
       "      <th></th>\n",
       "      <th>Average-Accuracy</th>\n",
       "    </tr>\n",
       "  </thead>\n",
       "  <tbody>\n",
       "    <tr>\n",
       "      <th>count</th>\n",
       "      <td>10.000000</td>\n",
       "    </tr>\n",
       "    <tr>\n",
       "      <th>mean</th>\n",
       "      <td>74.850000</td>\n",
       "    </tr>\n",
       "    <tr>\n",
       "      <th>std</th>\n",
       "      <td>0.641613</td>\n",
       "    </tr>\n",
       "    <tr>\n",
       "      <th>min</th>\n",
       "      <td>74.000000</td>\n",
       "    </tr>\n",
       "    <tr>\n",
       "      <th>25%</th>\n",
       "      <td>74.325000</td>\n",
       "    </tr>\n",
       "    <tr>\n",
       "      <th>50%</th>\n",
       "      <td>74.850000</td>\n",
       "    </tr>\n",
       "    <tr>\n",
       "      <th>75%</th>\n",
       "      <td>75.225000</td>\n",
       "    </tr>\n",
       "    <tr>\n",
       "      <th>max</th>\n",
       "      <td>76.000000</td>\n",
       "    </tr>\n",
       "  </tbody>\n",
       "</table>\n",
       "</div>"
      ],
      "text/plain": [
       "       Average-Accuracy\n",
       "count         10.000000\n",
       "mean          74.850000\n",
       "std            0.641613\n",
       "min           74.000000\n",
       "25%           74.325000\n",
       "50%           74.850000\n",
       "75%           75.225000\n",
       "max           76.000000"
      ]
     },
     "execution_count": 29,
     "metadata": {},
     "output_type": "execute_result"
    }
   ],
   "source": [
    "accuracies = pd.read_csv(f\"evaluation-results/{dataset}-Evaluation/trial-accuracies.csv\", sep=\";\")\n",
    "\n",
    "accuracies_stat = accuracies[[\"Average-Accuracy\"]].describe()\n",
    "\n",
    "dataset_accuracy.loc[dataset, 'accuracy-mean'] = accuracies_stat[\"Average-Accuracy\"][\"mean\"]\n",
    "dataset_accuracy.loc[dataset, 'accuracy-std'] = accuracies_stat[\"Average-Accuracy\"][\"std\"]\n",
    "\n",
    "accuracies_stat"
   ]
  },
  {
   "cell_type": "markdown",
   "metadata": {},
   "source": [
    "#### Dataset: DD"
   ]
  },
  {
   "cell_type": "code",
   "execution_count": 30,
   "metadata": {},
   "outputs": [],
   "source": [
    "dataset = \"DD\""
   ]
  },
  {
   "cell_type": "markdown",
   "metadata": {},
   "source": [
    "Best Hyperparameter obtained"
   ]
  },
  {
   "cell_type": "code",
   "execution_count": 31,
   "metadata": {},
   "outputs": [
    {
     "data": {
      "text/plain": [
       "{'refinement-steps': 9,\n",
       " 'num-clusters': 16,\n",
       " 'cluster-init-method': 'forgy',\n",
       " 'C': 10.0,\n",
       " 'average-accuracy': 79.54}"
      ]
     },
     "execution_count": 31,
     "metadata": {},
     "output_type": "execute_result"
    }
   ],
   "source": [
    "with open(f\"evaluation-results/{dataset}-Evaluation/best_hyperparameters.txt\", mode=\"r\") as f:\n",
    "    params = json.loads(f.readline().replace(\"\\'\", \"\\\"\"))\n",
    "\n",
    "for key in params.keys():\n",
    "    best_hyperparameters.loc[dataset, key] = params[key]\n",
    "\n",
    "params"
   ]
  },
  {
   "cell_type": "markdown",
   "metadata": {},
   "source": [
    "Accuracies from 10 fold CV repeated 10 times"
   ]
  },
  {
   "cell_type": "code",
   "execution_count": 32,
   "metadata": {},
   "outputs": [
    {
     "data": {
      "text/html": [
       "<div>\n",
       "<style scoped>\n",
       "    .dataframe tbody tr th:only-of-type {\n",
       "        vertical-align: middle;\n",
       "    }\n",
       "\n",
       "    .dataframe tbody tr th {\n",
       "        vertical-align: top;\n",
       "    }\n",
       "\n",
       "    .dataframe thead th {\n",
       "        text-align: right;\n",
       "    }\n",
       "</style>\n",
       "<table border=\"1\" class=\"dataframe\">\n",
       "  <thead>\n",
       "    <tr style=\"text-align: right;\">\n",
       "      <th></th>\n",
       "      <th>Average-Accuracy</th>\n",
       "    </tr>\n",
       "  </thead>\n",
       "  <tbody>\n",
       "    <tr>\n",
       "      <th>count</th>\n",
       "      <td>10.000000</td>\n",
       "    </tr>\n",
       "    <tr>\n",
       "      <th>mean</th>\n",
       "      <td>78.889000</td>\n",
       "    </tr>\n",
       "    <tr>\n",
       "      <th>std</th>\n",
       "      <td>0.365284</td>\n",
       "    </tr>\n",
       "    <tr>\n",
       "      <th>min</th>\n",
       "      <td>78.270000</td>\n",
       "    </tr>\n",
       "    <tr>\n",
       "      <th>25%</th>\n",
       "      <td>78.652500</td>\n",
       "    </tr>\n",
       "    <tr>\n",
       "      <th>50%</th>\n",
       "      <td>79.075000</td>\n",
       "    </tr>\n",
       "    <tr>\n",
       "      <th>75%</th>\n",
       "      <td>79.120000</td>\n",
       "    </tr>\n",
       "    <tr>\n",
       "      <th>max</th>\n",
       "      <td>79.290000</td>\n",
       "    </tr>\n",
       "  </tbody>\n",
       "</table>\n",
       "</div>"
      ],
      "text/plain": [
       "       Average-Accuracy\n",
       "count         10.000000\n",
       "mean          78.889000\n",
       "std            0.365284\n",
       "min           78.270000\n",
       "25%           78.652500\n",
       "50%           79.075000\n",
       "75%           79.120000\n",
       "max           79.290000"
      ]
     },
     "execution_count": 32,
     "metadata": {},
     "output_type": "execute_result"
    }
   ],
   "source": [
    "accuracies = pd.read_csv(f\"evaluation-results/{dataset}-Evaluation/trial-accuracies.csv\", sep=\";\")\n",
    "\n",
    "accuracies_stat = accuracies[[\"Average-Accuracy\"]].describe()\n",
    "\n",
    "dataset_accuracy.loc[dataset, 'accuracy-mean'] = accuracies_stat[\"Average-Accuracy\"][\"mean\"]\n",
    "dataset_accuracy.loc[dataset, 'accuracy-std'] = accuracies_stat[\"Average-Accuracy\"][\"std\"]\n",
    "\n",
    "accuracies_stat"
   ]
  },
  {
   "cell_type": "markdown",
   "metadata": {},
   "source": [
    "#### Summary"
   ]
  },
  {
   "cell_type": "code",
   "execution_count": 33,
   "metadata": {},
   "outputs": [
    {
     "data": {
      "text/html": [
       "<div>\n",
       "<style scoped>\n",
       "    .dataframe tbody tr th:only-of-type {\n",
       "        vertical-align: middle;\n",
       "    }\n",
       "\n",
       "    .dataframe tbody tr th {\n",
       "        vertical-align: top;\n",
       "    }\n",
       "\n",
       "    .dataframe thead th {\n",
       "        text-align: right;\n",
       "    }\n",
       "</style>\n",
       "<table border=\"1\" class=\"dataframe\">\n",
       "  <thead>\n",
       "    <tr style=\"text-align: right;\">\n",
       "      <th></th>\n",
       "      <th>refinement-steps</th>\n",
       "      <th>num-clusters</th>\n",
       "      <th>cluster-init-method</th>\n",
       "      <th>C</th>\n",
       "      <th>average-accuracy</th>\n",
       "    </tr>\n",
       "  </thead>\n",
       "  <tbody>\n",
       "    <tr>\n",
       "      <th>KKI</th>\n",
       "      <td>10</td>\n",
       "      <td>2</td>\n",
       "      <td>kmeans++</td>\n",
       "      <td>10.0</td>\n",
       "      <td>63.61</td>\n",
       "    </tr>\n",
       "    <tr>\n",
       "      <th>PTC_FM</th>\n",
       "      <td>9</td>\n",
       "      <td>4</td>\n",
       "      <td>forgy</td>\n",
       "      <td>10.0</td>\n",
       "      <td>68.78</td>\n",
       "    </tr>\n",
       "    <tr>\n",
       "      <th>EGO-1</th>\n",
       "      <td>4</td>\n",
       "      <td>4</td>\n",
       "      <td>kmeans++</td>\n",
       "      <td>10.0</td>\n",
       "      <td>73.5</td>\n",
       "    </tr>\n",
       "    <tr>\n",
       "      <th>EGO-2</th>\n",
       "      <td>6</td>\n",
       "      <td>8</td>\n",
       "      <td>kmeans++</td>\n",
       "      <td>1000.0</td>\n",
       "      <td>76.0</td>\n",
       "    </tr>\n",
       "    <tr>\n",
       "      <th>EGO-3</th>\n",
       "      <td>7</td>\n",
       "      <td>8</td>\n",
       "      <td>kmeans++</td>\n",
       "      <td>100.0</td>\n",
       "      <td>74.0</td>\n",
       "    </tr>\n",
       "    <tr>\n",
       "      <th>EGO-4</th>\n",
       "      <td>3</td>\n",
       "      <td>8</td>\n",
       "      <td>kmeans++</td>\n",
       "      <td>100.0</td>\n",
       "      <td>81.0</td>\n",
       "    </tr>\n",
       "    <tr>\n",
       "      <th>MSRC_9</th>\n",
       "      <td>2</td>\n",
       "      <td>16</td>\n",
       "      <td>kmeans++</td>\n",
       "      <td>100.0</td>\n",
       "      <td>93.22</td>\n",
       "    </tr>\n",
       "    <tr>\n",
       "      <th>NCI1</th>\n",
       "      <td>10</td>\n",
       "      <td>16</td>\n",
       "      <td>forgy</td>\n",
       "      <td>10.0</td>\n",
       "      <td>77.42</td>\n",
       "    </tr>\n",
       "    <tr>\n",
       "      <th>IMDB-BINARY</th>\n",
       "      <td>3</td>\n",
       "      <td>16</td>\n",
       "      <td>forgy</td>\n",
       "      <td>10.0</td>\n",
       "      <td>75.5</td>\n",
       "    </tr>\n",
       "    <tr>\n",
       "      <th>REDDIT-BINARY</th>\n",
       "      <td>NaN</td>\n",
       "      <td>NaN</td>\n",
       "      <td>NaN</td>\n",
       "      <td>NaN</td>\n",
       "      <td>NaN</td>\n",
       "    </tr>\n",
       "    <tr>\n",
       "      <th>DD</th>\n",
       "      <td>9</td>\n",
       "      <td>16</td>\n",
       "      <td>forgy</td>\n",
       "      <td>10.0</td>\n",
       "      <td>79.54</td>\n",
       "    </tr>\n",
       "    <tr>\n",
       "      <th>COLLAB</th>\n",
       "      <td>NaN</td>\n",
       "      <td>NaN</td>\n",
       "      <td>NaN</td>\n",
       "      <td>NaN</td>\n",
       "      <td>NaN</td>\n",
       "    </tr>\n",
       "  </tbody>\n",
       "</table>\n",
       "</div>"
      ],
      "text/plain": [
       "              refinement-steps num-clusters cluster-init-method       C  \\\n",
       "KKI                         10            2            kmeans++    10.0   \n",
       "PTC_FM                       9            4               forgy    10.0   \n",
       "EGO-1                        4            4            kmeans++    10.0   \n",
       "EGO-2                        6            8            kmeans++  1000.0   \n",
       "EGO-3                        7            8            kmeans++   100.0   \n",
       "EGO-4                        3            8            kmeans++   100.0   \n",
       "MSRC_9                       2           16            kmeans++   100.0   \n",
       "NCI1                        10           16               forgy    10.0   \n",
       "IMDB-BINARY                  3           16               forgy    10.0   \n",
       "REDDIT-BINARY              NaN          NaN                 NaN     NaN   \n",
       "DD                           9           16               forgy    10.0   \n",
       "COLLAB                     NaN          NaN                 NaN     NaN   \n",
       "\n",
       "              average-accuracy  \n",
       "KKI                      63.61  \n",
       "PTC_FM                   68.78  \n",
       "EGO-1                     73.5  \n",
       "EGO-2                     76.0  \n",
       "EGO-3                     74.0  \n",
       "EGO-4                     81.0  \n",
       "MSRC_9                   93.22  \n",
       "NCI1                     77.42  \n",
       "IMDB-BINARY               75.5  \n",
       "REDDIT-BINARY              NaN  \n",
       "DD                       79.54  \n",
       "COLLAB                     NaN  "
      ]
     },
     "execution_count": 33,
     "metadata": {},
     "output_type": "execute_result"
    }
   ],
   "source": [
    "best_hyperparameters"
   ]
  },
  {
   "cell_type": "code",
   "execution_count": 34,
   "metadata": {},
   "outputs": [
    {
     "data": {
      "text/html": [
       "<div>\n",
       "<style scoped>\n",
       "    .dataframe tbody tr th:only-of-type {\n",
       "        vertical-align: middle;\n",
       "    }\n",
       "\n",
       "    .dataframe tbody tr th {\n",
       "        vertical-align: top;\n",
       "    }\n",
       "\n",
       "    .dataframe thead th {\n",
       "        text-align: right;\n",
       "    }\n",
       "</style>\n",
       "<table border=\"1\" class=\"dataframe\">\n",
       "  <thead>\n",
       "    <tr style=\"text-align: right;\">\n",
       "      <th></th>\n",
       "      <th>accuracy-mean</th>\n",
       "      <th>accuracy-std</th>\n",
       "    </tr>\n",
       "  </thead>\n",
       "  <tbody>\n",
       "    <tr>\n",
       "      <th>KKI</th>\n",
       "      <td>55.528</td>\n",
       "      <td>3.459572</td>\n",
       "    </tr>\n",
       "    <tr>\n",
       "      <th>PTC_FM</th>\n",
       "      <td>65.617</td>\n",
       "      <td>1.137952</td>\n",
       "    </tr>\n",
       "    <tr>\n",
       "      <th>EGO-1</th>\n",
       "      <td>72.25</td>\n",
       "      <td>1.230402</td>\n",
       "    </tr>\n",
       "    <tr>\n",
       "      <th>EGO-2</th>\n",
       "      <td>73.2</td>\n",
       "      <td>1.358103</td>\n",
       "    </tr>\n",
       "    <tr>\n",
       "      <th>EGO-3</th>\n",
       "      <td>70.4</td>\n",
       "      <td>1.696401</td>\n",
       "    </tr>\n",
       "    <tr>\n",
       "      <th>EGO-4</th>\n",
       "      <td>79.5</td>\n",
       "      <td>1.699673</td>\n",
       "    </tr>\n",
       "    <tr>\n",
       "      <th>MSRC_9</th>\n",
       "      <td>90.588</td>\n",
       "      <td>0.932152</td>\n",
       "    </tr>\n",
       "    <tr>\n",
       "      <th>NCI1</th>\n",
       "      <td>77.426</td>\n",
       "      <td>0.565257</td>\n",
       "    </tr>\n",
       "    <tr>\n",
       "      <th>IMDB-BINARY</th>\n",
       "      <td>74.85</td>\n",
       "      <td>0.641613</td>\n",
       "    </tr>\n",
       "    <tr>\n",
       "      <th>REDDIT-BINARY</th>\n",
       "      <td>NaN</td>\n",
       "      <td>NaN</td>\n",
       "    </tr>\n",
       "    <tr>\n",
       "      <th>DD</th>\n",
       "      <td>78.889</td>\n",
       "      <td>0.365284</td>\n",
       "    </tr>\n",
       "    <tr>\n",
       "      <th>COLLAB</th>\n",
       "      <td>NaN</td>\n",
       "      <td>NaN</td>\n",
       "    </tr>\n",
       "  </tbody>\n",
       "</table>\n",
       "</div>"
      ],
      "text/plain": [
       "              accuracy-mean accuracy-std\n",
       "KKI                  55.528     3.459572\n",
       "PTC_FM               65.617     1.137952\n",
       "EGO-1                 72.25     1.230402\n",
       "EGO-2                  73.2     1.358103\n",
       "EGO-3                  70.4     1.696401\n",
       "EGO-4                  79.5     1.699673\n",
       "MSRC_9               90.588     0.932152\n",
       "NCI1                 77.426     0.565257\n",
       "IMDB-BINARY           74.85     0.641613\n",
       "REDDIT-BINARY           NaN          NaN\n",
       "DD                   78.889     0.365284\n",
       "COLLAB                  NaN          NaN"
      ]
     },
     "execution_count": 34,
     "metadata": {},
     "output_type": "execute_result"
    }
   ],
   "source": [
    "dataset_accuracy"
   ]
  }
 ],
 "metadata": {
  "kernelspec": {
   "display_name": "akash",
   "language": "python",
   "name": "akash"
  },
  "language_info": {
   "codemirror_mode": {
    "name": "ipython",
    "version": 3
   },
   "file_extension": ".py",
   "mimetype": "text/x-python",
   "name": "python",
   "nbconvert_exporter": "python",
   "pygments_lexer": "ipython3",
   "version": "3.9.19"
  }
 },
 "nbformat": 4,
 "nbformat_minor": 2
}
